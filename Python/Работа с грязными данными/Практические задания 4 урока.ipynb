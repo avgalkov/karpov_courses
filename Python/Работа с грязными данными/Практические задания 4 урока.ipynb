{
 "cells": [
  {
   "cell_type": "markdown",
   "id": "0902a476",
   "metadata": {},
   "source": [
    "# Домашние задания четвертого урока."
   ]
  },
  {
   "cell_type": "markdown",
   "id": "40a1e2ef",
   "metadata": {},
   "source": [
    "**1. В переменной df находится датафрэйм. Запишите в переменную  df_shape строку с информацией о том, сколько строк и столбцов он содержит, в следующем виде:**\n",
    "\n",
    "'df has y rows and x columns'\n",
    "\n",
    "**где y — число строк, а x — число колонок.**"
   ]
  },
  {
   "cell_type": "code",
   "execution_count": null,
   "id": "4d216363",
   "metadata": {},
   "outputs": [],
   "source": [
    "xy = list(df.shape)\n",
    "y, x = xy[0], xy[1]\n",
    "df_shape = f'df has {y} rows and {x} columns'"
   ]
  },
  {
   "cell_type": "markdown",
   "id": "8a9525ff",
   "metadata": {},
   "source": [
    "**2. Сохраните в переменную na_number серию, в которой для каждой колонки будет указано, сколько пропущенных значений она содержит. Например, для такого датафрейма:**\n",
    "![](https://ucarecdn.com/e1075ffd-190a-4019-a1fa-456e4b26bb8a/)\n",
    "Ответ будет:\n",
    "![](https://ucarecdn.com/63f7129e-9e87-4437-b9e5-b267258ad5f2/)\n",
    "Note: датафрейм уже лежит в переменной **df**"
   ]
  },
  {
   "cell_type": "code",
   "execution_count": null,
   "id": "9e30b2da",
   "metadata": {},
   "outputs": [],
   "source": [
    "na_number  = df.isna().sum()"
   ]
  },
  {
   "cell_type": "markdown",
   "id": "65ba2158",
   "metadata": {},
   "source": [
    "**3. Сохраните в переменную df_types типы данных каждой колонки датафрэйма df.**"
   ]
  },
  {
   "cell_type": "code",
   "execution_count": null,
   "id": "d8b29534",
   "metadata": {},
   "outputs": [],
   "source": [
    "df_types = df.dtypes"
   ]
  },
  {
   "cell_type": "markdown",
   "id": "1f925ee3",
   "metadata": {},
   "source": [
    "**4. Внезапно оказалось, что в колонке age значения хранятся в виде строк! Поменяйте тип значений на целочисленный в этой колонке датафрэйма df.**"
   ]
  },
  {
   "cell_type": "code",
   "execution_count": null,
   "id": "2d0b013c",
   "metadata": {},
   "outputs": [],
   "source": [
    "df['age'] = df.age.astype('int')"
   ]
  },
  {
   "cell_type": "markdown",
   "id": "62d7ee21",
   "metadata": {},
   "source": [
    "**5. Как выяснилось, для дальнейшего анализа нам не понадобятся колонки sex и age – удалите их из датафрэйма.**"
   ]
  },
  {
   "cell_type": "code",
   "execution_count": null,
   "id": "88e0a795",
   "metadata": {},
   "outputs": [],
   "source": [
    "df = df.drop(columns=['age', 'sex'])"
   ]
  },
  {
   "cell_type": "markdown",
   "id": "4f061d02",
   "metadata": {},
   "source": [
    "**6. А теперь проверим, есть ли в нашей таблице df дубликаты по полю client_id. Сохраните в переменную df датафрейм, в котором не будет дубликатов по колонке client_id, оставив первую строку с id**"
   ]
  },
  {
   "cell_type": "code",
   "execution_count": null,
   "id": "9e5ee726",
   "metadata": {},
   "outputs": [],
   "source": [
    "df = df.drop_duplicates(subset='client_id')"
   ]
  },
  {
   "cell_type": "markdown",
   "id": "42dea57b",
   "metadata": {},
   "source": [
    "**7. А сейчас ненадолго вернемся к чистому Python.**\n",
    "\n",
    "**В списке numbers содержатся числа. Добавьте через цикл в список positive_numbers положительные числа из numbers. Если вам попался 0, то нужно прекратить этот цикл.**\n",
    "\n",
    "**Например,**\n",
    "\n",
    "numbers = [1, -2, 3, 0, -3, 2]\n",
    "\n",
    "**Тогда positive_numbers должен быть:**\n",
    "\n",
    "positive_numbers = [1, 3]\n",
    "\n",
    "Hint: список numbers  уже создан."
   ]
  },
  {
   "cell_type": "code",
   "execution_count": null,
   "id": "06ca28f7",
   "metadata": {},
   "outputs": [],
   "source": [
    "positive_numbers = []\n",
    "for i in numbers:\n",
    "    if i == 0:\n",
    "        break\n",
    "    elif i < 0:\n",
    "        continue\n",
    "    positive_numbers.append(i)"
   ]
  },
  {
   "cell_type": "markdown",
   "id": "f4fd42fe",
   "metadata": {},
   "source": [
    "**8. Продолжим анализ данных по поездкам на такси из Перу. В предыдущем уроке вы изучили распределения оценок водителей и клиентов. Теперь посмотрим на колонки со временем!**\n",
    "\n",
    "**Ссылка на датасет находится в переменной path_to_file. Сохраните данные в переменную taxi, разделитель — ;.**\n",
    "\n",
    "**Затем приведите столбцы start_at, end_at, arrived_at к формату даты, используя pd.to_datetime(). Отфильтруйте данные и оставьте наблюдения со статусом заказа \"asap\" и \"reserved\" (start_type).**\n",
    "\n",
    "Полезная ссылка: [pd.to_datetime()](https://lab.karpov.courses/learning/88/module/1103/lesson/9729/28503/133123/)"
   ]
  },
  {
   "cell_type": "code",
   "execution_count": 2,
   "id": "fa4be1da",
   "metadata": {},
   "outputs": [],
   "source": [
    "import pandas as pd\n",
    "path_to_file = 'C:/Users/Александр/pj/karpov_courses/Python/Homeworks/Datasets/3_taxi_peru.csv'\n",
    "taxi = pd.read_csv(path_to_file, sep=';')\n",
    "taxi['start_at'] = pd.to_datetime(taxi['start_at'])\n",
    "taxi['end_at'] = pd.to_datetime(taxi['end_at'])\n",
    "taxi['arrived_at'] = pd.to_datetime(taxi['arrived_at'])\n",
    "taxi = taxi.query(\"start_type == 'asap' or start_type == 'reserved'\")"
   ]
  },
  {
   "cell_type": "markdown",
   "id": "cffc5565",
   "metadata": {},
   "source": [
    "**9. ⭐️Задание со звёздочкой!⭐️**\n",
    "\n",
    "**Создайте колонку wait_time, в которой будет храниться разница между временем подачи машины (arrived_at) и временем заказа (start_at) в минутах.**\n",
    "\n",
    "**Чтобы сконвертировать полученный результат в минуты, можно использовать метод  .astype('timedelta64[m]').**\n",
    "\n",
    "Полезная ссылка: \n",
    "[Подробнее об astype](https://lab.karpov.courses/learning/88/module/1103/lesson/9729/28503/133118/)\n",
    "\n",
    "**Данные загружены в taxi и отфильтрованы, как в 8 шаге.**"
   ]
  },
  {
   "cell_type": "code",
   "execution_count": 3,
   "id": "8ac81fb3",
   "metadata": {},
   "outputs": [],
   "source": [
    "taxi['wait_time'] = taxi.arrived_at - taxi.start_at\n",
    "taxi['wait_time'] = taxi.wait_time.astype('timedelta64[m]')"
   ]
  },
  {
   "cell_type": "markdown",
   "id": "627607c3",
   "metadata": {},
   "source": [
    "**10. ⭐️Задание со звёздочкой!⭐️**\n",
    "\n",
    "**Посмотрим, какие водители опаздывали на заказы к определенному времени (start_type == 'reserved'). Опозданием считается время ожидания wait_time > 0.0.**\n",
    "\n",
    "**Сгруппируйте отфильтрованные данные по driver_id и в качестве ответа укажите id водителя, который опоздал на заказ интересующего нас типа наибольшее число раз**"
   ]
  },
  {
   "cell_type": "code",
   "execution_count": 5,
   "id": "27e2558f",
   "metadata": {},
   "outputs": [
    {
     "data": {
      "text/html": [
       "<div>\n",
       "<style scoped>\n",
       "    .dataframe tbody tr th:only-of-type {\n",
       "        vertical-align: middle;\n",
       "    }\n",
       "\n",
       "    .dataframe tbody tr th {\n",
       "        vertical-align: top;\n",
       "    }\n",
       "\n",
       "    .dataframe thead th {\n",
       "        text-align: right;\n",
       "    }\n",
       "</style>\n",
       "<table border=\"1\" class=\"dataframe\">\n",
       "  <thead>\n",
       "    <tr style=\"text-align: right;\">\n",
       "      <th></th>\n",
       "      <th>journey_id</th>\n",
       "      <th>user_id</th>\n",
       "      <th>driver_id</th>\n",
       "      <th>taxi_id</th>\n",
       "      <th>icon</th>\n",
       "      <th>start_type</th>\n",
       "      <th>start_at</th>\n",
       "      <th>start_lat</th>\n",
       "      <th>start_lon</th>\n",
       "      <th>end_at</th>\n",
       "      <th>end_lat</th>\n",
       "      <th>end_lon</th>\n",
       "      <th>end_state</th>\n",
       "      <th>driver_start_lat</th>\n",
       "      <th>driver_start_lon</th>\n",
       "      <th>arrived_at</th>\n",
       "      <th>source</th>\n",
       "      <th>driver_score</th>\n",
       "      <th>rider_score</th>\n",
       "      <th>wait_time</th>\n",
       "    </tr>\n",
       "  </thead>\n",
       "  <tbody>\n",
       "    <tr>\n",
       "      <th>11</th>\n",
       "      <td>af7a0d5b65562d9e4f7749317efb1a3a</td>\n",
       "      <td>7abecd4f47c2c1d5390d86eb22181c90</td>\n",
       "      <td>d04f1a596fe4a582f48e6eb2f9e8f617</td>\n",
       "      <td>d04f1a596fe4a582f48e6eb2f9e8cceb</td>\n",
       "      <td>executive</td>\n",
       "      <td>reserved</td>\n",
       "      <td>2010-11-28 03:15:00</td>\n",
       "      <td>-12,10128779</td>\n",
       "      <td>-77,00463697</td>\n",
       "      <td>2010-11-28 03:37:00</td>\n",
       "      <td>-12,10112256</td>\n",
       "      <td>-77,00418301</td>\n",
       "      <td>drop off</td>\n",
       "      <td>-12,1011259</td>\n",
       "      <td>-77,0041831</td>\n",
       "      <td>2010-11-28 03:22:00</td>\n",
       "      <td>Android</td>\n",
       "      <td>NaN</td>\n",
       "      <td>4.0</td>\n",
       "      <td>7.0</td>\n",
       "    </tr>\n",
       "    <tr>\n",
       "      <th>51</th>\n",
       "      <td>e1b5a14977e84b1900b5b69e040c3de1</td>\n",
       "      <td>1e44c0fd0a266c3719ff30410baa07cd</td>\n",
       "      <td>ae06c34243f741e203e97c48ebcbd9da</td>\n",
       "      <td>f622a9397b85b5c9c0ef938c5d592020</td>\n",
       "      <td>executive</td>\n",
       "      <td>reserved</td>\n",
       "      <td>2010-10-12 19:45:00</td>\n",
       "      <td>-12,11184692</td>\n",
       "      <td>-77,03222656</td>\n",
       "      <td>2010-10-12 20:49:00</td>\n",
       "      <td>-12,02226257</td>\n",
       "      <td>-77,109375</td>\n",
       "      <td>drop off</td>\n",
       "      <td>-12,02907305</td>\n",
       "      <td>-77,08317745</td>\n",
       "      <td>2010-10-12 19:56:00</td>\n",
       "      <td>iPhone</td>\n",
       "      <td>NaN</td>\n",
       "      <td>5.0</td>\n",
       "      <td>11.0</td>\n",
       "    </tr>\n",
       "    <tr>\n",
       "      <th>67</th>\n",
       "      <td>eb06449983dd990ff162c0ad990909ba</td>\n",
       "      <td>933a5cf7834b12121755b8586b53a083</td>\n",
       "      <td>406921adcca37705ef527b4246c0cfea</td>\n",
       "      <td>406921adcca37705ef527b4246c10d2c</td>\n",
       "      <td>executive</td>\n",
       "      <td>reserved</td>\n",
       "      <td>2010-06-01 22:00:00</td>\n",
       "      <td>-12,12078476</td>\n",
       "      <td>-76,97079468</td>\n",
       "      <td>2010-06-01 22:42:00</td>\n",
       "      <td>-12,07870483</td>\n",
       "      <td>-77,06329346</td>\n",
       "      <td>drop off</td>\n",
       "      <td>-12,11143646</td>\n",
       "      <td>-76,99240794</td>\n",
       "      <td>2010-06-01 22:01:00</td>\n",
       "      <td>iPhone</td>\n",
       "      <td>4.0</td>\n",
       "      <td>5.0</td>\n",
       "      <td>1.0</td>\n",
       "    </tr>\n",
       "    <tr>\n",
       "      <th>83</th>\n",
       "      <td>cd6a65a00f3ac91060d336a9f037f7f6</td>\n",
       "      <td>cb6ea169cefc7a0a5f1f8bd8ebbe3223</td>\n",
       "      <td>baacf396f773709519bbde35a5eab861</td>\n",
       "      <td>baacf396f773709519bbde35a585d91b</td>\n",
       "      <td>executive</td>\n",
       "      <td>reserved</td>\n",
       "      <td>2010-08-16 22:30:00</td>\n",
       "      <td>-12,10181985</td>\n",
       "      <td>-76,97150599</td>\n",
       "      <td>2010-08-16 22:57:00</td>\n",
       "      <td>-12,08880914</td>\n",
       "      <td>-76,99084405</td>\n",
       "      <td>drop off</td>\n",
       "      <td>-12,06300311</td>\n",
       "      <td>-76,94575123</td>\n",
       "      <td>2010-08-16 22:33:00</td>\n",
       "      <td>Android</td>\n",
       "      <td>0.0</td>\n",
       "      <td>4.0</td>\n",
       "      <td>3.0</td>\n",
       "    </tr>\n",
       "    <tr>\n",
       "      <th>157</th>\n",
       "      <td>e1332f68e81526e498e4d845233a17ee</td>\n",
       "      <td>be2d7041cb5bae52cf3edaaf03798426</td>\n",
       "      <td>65b6f3b7075270499ddd0f1dc1130459</td>\n",
       "      <td>f78d50ea4f0c83a4a302d9fa82264b02</td>\n",
       "      <td>executive</td>\n",
       "      <td>reserved</td>\n",
       "      <td>2010-03-27 23:30:00</td>\n",
       "      <td>-12,0966369</td>\n",
       "      <td>-77,0295319</td>\n",
       "      <td>2010-03-28 00:25:00</td>\n",
       "      <td>-12,1249782</td>\n",
       "      <td>-77,0048048</td>\n",
       "      <td>drop off</td>\n",
       "      <td>-12,08623295</td>\n",
       "      <td>-77,03547408</td>\n",
       "      <td>2010-03-27 23:31:00</td>\n",
       "      <td>web</td>\n",
       "      <td>NaN</td>\n",
       "      <td>5.0</td>\n",
       "      <td>1.0</td>\n",
       "    </tr>\n",
       "  </tbody>\n",
       "</table>\n",
       "</div>"
      ],
      "text/plain": [
       "                           journey_id                           user_id  \\\n",
       "11   af7a0d5b65562d9e4f7749317efb1a3a  7abecd4f47c2c1d5390d86eb22181c90   \n",
       "51   e1b5a14977e84b1900b5b69e040c3de1  1e44c0fd0a266c3719ff30410baa07cd   \n",
       "67   eb06449983dd990ff162c0ad990909ba  933a5cf7834b12121755b8586b53a083   \n",
       "83   cd6a65a00f3ac91060d336a9f037f7f6  cb6ea169cefc7a0a5f1f8bd8ebbe3223   \n",
       "157  e1332f68e81526e498e4d845233a17ee  be2d7041cb5bae52cf3edaaf03798426   \n",
       "\n",
       "                            driver_id                           taxi_id  \\\n",
       "11   d04f1a596fe4a582f48e6eb2f9e8f617  d04f1a596fe4a582f48e6eb2f9e8cceb   \n",
       "51   ae06c34243f741e203e97c48ebcbd9da  f622a9397b85b5c9c0ef938c5d592020   \n",
       "67   406921adcca37705ef527b4246c0cfea  406921adcca37705ef527b4246c10d2c   \n",
       "83   baacf396f773709519bbde35a5eab861  baacf396f773709519bbde35a585d91b   \n",
       "157  65b6f3b7075270499ddd0f1dc1130459  f78d50ea4f0c83a4a302d9fa82264b02   \n",
       "\n",
       "          icon start_type            start_at     start_lat     start_lon  \\\n",
       "11   executive   reserved 2010-11-28 03:15:00  -12,10128779  -77,00463697   \n",
       "51   executive   reserved 2010-10-12 19:45:00  -12,11184692  -77,03222656   \n",
       "67   executive   reserved 2010-06-01 22:00:00  -12,12078476  -76,97079468   \n",
       "83   executive   reserved 2010-08-16 22:30:00  -12,10181985  -76,97150599   \n",
       "157  executive   reserved 2010-03-27 23:30:00   -12,0966369   -77,0295319   \n",
       "\n",
       "                 end_at       end_lat       end_lon end_state  \\\n",
       "11  2010-11-28 03:37:00  -12,10112256  -77,00418301  drop off   \n",
       "51  2010-10-12 20:49:00  -12,02226257    -77,109375  drop off   \n",
       "67  2010-06-01 22:42:00  -12,07870483  -77,06329346  drop off   \n",
       "83  2010-08-16 22:57:00  -12,08880914  -76,99084405  drop off   \n",
       "157 2010-03-28 00:25:00   -12,1249782   -77,0048048  drop off   \n",
       "\n",
       "    driver_start_lat driver_start_lon          arrived_at   source  \\\n",
       "11       -12,1011259      -77,0041831 2010-11-28 03:22:00  Android   \n",
       "51      -12,02907305     -77,08317745 2010-10-12 19:56:00   iPhone   \n",
       "67      -12,11143646     -76,99240794 2010-06-01 22:01:00   iPhone   \n",
       "83      -12,06300311     -76,94575123 2010-08-16 22:33:00  Android   \n",
       "157     -12,08623295     -77,03547408 2010-03-27 23:31:00      web   \n",
       "\n",
       "     driver_score  rider_score  wait_time  \n",
       "11            NaN          4.0        7.0  \n",
       "51            NaN          5.0       11.0  \n",
       "67            4.0          5.0        1.0  \n",
       "83            0.0          4.0        3.0  \n",
       "157           NaN          5.0        1.0  "
      ]
     },
     "execution_count": 5,
     "metadata": {},
     "output_type": "execute_result"
    }
   ],
   "source": [
    "taxi.loc[(taxi.start_type == 'reserved') & (taxi.wait_time > 0)].head()"
   ]
  },
  {
   "cell_type": "code",
   "execution_count": 6,
   "id": "144c4a20",
   "metadata": {},
   "outputs": [
    {
     "data": {
      "text/plain": [
       "'406921adcca37705ef527b4246c0cfea'"
      ]
     },
     "execution_count": 6,
     "metadata": {},
     "output_type": "execute_result"
    }
   ],
   "source": [
    "taxi.loc[(taxi.start_type == 'reserved') & (taxi.wait_time > 0)].driver_id.value_counts().idxmax()"
   ]
  },
  {
   "cell_type": "markdown",
   "id": "dceaa6dc",
   "metadata": {},
   "source": [
    "**11. Подумайте, что может влиять на число опозданий из прошлого задания 🤔**\n",
    "\n",
    "* **Число взятых заказов**\n",
    "* **Пунктуальность водителя**\n",
    "* Поставленная водителем оценка клиента\n",
    "* Цвет машины\n",
    "\n",
    "**Гипотеза 1**: у него самые долгие поездки, и не получается рассчитывать время (например, стоял в пробке)\n",
    "* **Проверим**: посчитаем медиану продолжительности поездок по водителям, и посмотрим, войдет ли искомый водитель в топ:\n",
    "![](https://storage.yandexcloud.net/klms-public/production/learning-content/11/73/583/1673/17199/image.png)\n",
    "\n",
    "Здесь искомого айди нет (406921adcca37705ef527b4246c0cfea). Наш водитель не в топ-10, так что гипотезу отбрасываем.\n",
    "\n",
    "**Гипотеза 2**: у него в принципе больше всех поездок, поэтому он и опаздывает больше всех\n",
    "Проверим: найдем топ-5 по числу поездок:\n",
    "![](https://storage.yandexcloud.net/klms-public/production/learning-content/11/73/583/1673/17199/image_6dm4GLa.png)\n",
    "Наш водитель на 3м месте, но не на 1м. Сравним с топом \"опаздывающих\":\n",
    "![](https://storage.yandexcloud.net/klms-public/production/learning-content/11/73/583/1673/17199/image_ZpHZzcs.png)\n",
    "Видим, что трое водителей присутствуют в обоих топах. Логично – кто больше ездит, тот больше и опаздывает. Попробуем посмотреть не на абсолютное число опозданий, а на их долю – и там, возможно, наш водитель будет не самым опаздывающим.\n",
    "\n",
    "Снова посмотрим топ-5 по количеству поездок:\n",
    "![](https://storage.yandexcloud.net/klms-public/production/learning-content/11/73/583/1673/17199/image_cktgMF8.png)\n",
    "Здесь наш водитель на первом месте по доле опозданий – опоздания случились в 67 поездках из 363, или в 18% случаев.\n",
    "\n",
    "Но в целом среди всех водителей он не так плох: около половины водителей опаздывали чаще (медианная доля опозданий 17,4%):\n",
    "![](https://storage.yandexcloud.net/klms-public/production/learning-content/11/73/583/1673/17199/image_GcvNC40.png)\n",
    "\n",
    "**Вывод** – наш водитель:\n",
    "\n",
    "* один из самых активных (совершает много поездок)\n",
    "* не очень пунктуальный (хоть и не самый)\n",
    "\n",
    "Сойдясь в одной точке, эти факторы вывели его в топ опаздывающих. Будь он чуть пунктуальней, или езди чуть реже – этого бы не случилось.\n",
    "\n",
    "Третьим возможным фактором является то, что в топе самых активных водителей рядом с нашим героем оказались самые ответственные люди - их доля опозданий меньше, чем у 75% водителей и с ними просто трудно конкурировать. Другие два варианта ответа не связаны с водителем: поставленная оценка от водителя вряд ли влияет на скорость самой поездки, а цвет машины – тем более :)"
   ]
  },
  {
   "cell_type": "markdown",
   "id": "2b3c9f54",
   "metadata": {},
   "source": [
    "**12. ⭐️Задание со звёздочкой!⭐️**\n",
    "\n",
    "**Добавьте столбец month, где будет храниться номер месяца, в котором был сделан заказ (start_at),  и столбец weekday – название дня недели.**\n",
    "\n",
    "Полезные ссылки:\n",
    "\n",
    "* [как](https://lab.karpov.courses/learning/88/module/1103/lesson/9729/28503/133123/) извлечь нужное значение из даты?\n",
    "\n",
    "* **.dt.strftime('%A')** – извлечь день недели в формате названия\n",
    "\n",
    "**Данные загружены в taxi и отфильтрованы, как в 8 шаге.**"
   ]
  },
  {
   "cell_type": "code",
   "execution_count": 8,
   "id": "301de918",
   "metadata": {},
   "outputs": [
    {
     "data": {
      "text/html": [
       "<div>\n",
       "<style scoped>\n",
       "    .dataframe tbody tr th:only-of-type {\n",
       "        vertical-align: middle;\n",
       "    }\n",
       "\n",
       "    .dataframe tbody tr th {\n",
       "        vertical-align: top;\n",
       "    }\n",
       "\n",
       "    .dataframe thead th {\n",
       "        text-align: right;\n",
       "    }\n",
       "</style>\n",
       "<table border=\"1\" class=\"dataframe\">\n",
       "  <thead>\n",
       "    <tr style=\"text-align: right;\">\n",
       "      <th></th>\n",
       "      <th>start_at</th>\n",
       "      <th>month</th>\n",
       "      <th>weekday</th>\n",
       "    </tr>\n",
       "  </thead>\n",
       "  <tbody>\n",
       "    <tr>\n",
       "      <th>0</th>\n",
       "      <td>2010-11-16 16:44:00</td>\n",
       "      <td>11</td>\n",
       "      <td>Tuesday</td>\n",
       "    </tr>\n",
       "    <tr>\n",
       "      <th>1</th>\n",
       "      <td>2010-06-01 00:34:00</td>\n",
       "      <td>6</td>\n",
       "      <td>Tuesday</td>\n",
       "    </tr>\n",
       "    <tr>\n",
       "      <th>2</th>\n",
       "      <td>2010-05-31 05:01:00</td>\n",
       "      <td>5</td>\n",
       "      <td>Monday</td>\n",
       "    </tr>\n",
       "    <tr>\n",
       "      <th>3</th>\n",
       "      <td>2010-06-01 00:29:00</td>\n",
       "      <td>6</td>\n",
       "      <td>Tuesday</td>\n",
       "    </tr>\n",
       "    <tr>\n",
       "      <th>4</th>\n",
       "      <td>2010-09-11 23:55:00</td>\n",
       "      <td>9</td>\n",
       "      <td>Saturday</td>\n",
       "    </tr>\n",
       "  </tbody>\n",
       "</table>\n",
       "</div>"
      ],
      "text/plain": [
       "             start_at  month   weekday\n",
       "0 2010-11-16 16:44:00     11   Tuesday\n",
       "1 2010-06-01 00:34:00      6   Tuesday\n",
       "2 2010-05-31 05:01:00      5    Monday\n",
       "3 2010-06-01 00:29:00      6   Tuesday\n",
       "4 2010-09-11 23:55:00      9  Saturday"
      ]
     },
     "execution_count": 8,
     "metadata": {},
     "output_type": "execute_result"
    }
   ],
   "source": [
    "taxi['month'] = taxi.start_at.dt.month\n",
    "taxi['weekday'] = taxi.start_at.dt.day_name()\n",
    "taxi[['start_at', 'month', 'weekday']].head()"
   ]
  },
  {
   "cell_type": "markdown",
   "id": "b3dfe57e",
   "metadata": {},
   "source": [
    "**13. ⭐️Задание со звёздочкой!⭐️**\n",
    "\n",
    "**Постройте график числа заказов по месяцам (month). Подумайте, с чем может быть связана полученная картина.**\n",
    "\n",
    "**Вопрос: в каком летнем месяце было сделано наименьшее число заказов? В качестве ответа введите номер месяца (6, 7 или 8).** \n",
    "\n",
    "Полезная ссылка: [sns.countplot](https://seaborn.pydata.org/generated/seaborn.countplot.html) "
   ]
  },
  {
   "cell_type": "code",
   "execution_count": 10,
   "id": "09f6bc6c",
   "metadata": {},
   "outputs": [
    {
     "data": {
      "image/png": "[encoded data removed]",
      "text/plain": [
       "<Figure size 432x288 with 1 Axes>"
      ]
     },
     "metadata": {
      "needs_background": "light"
     },
     "output_type": "display_data"
    }
   ],
   "source": [
    "import seaborn as sns\n",
    "sns.countplot(data=taxi, x='month')\n",
    "sns.despine()"
   ]
  },
  {
   "cell_type": "markdown",
   "id": "a396cba0",
   "metadata": {},
   "source": [
    "Ответ: 7 месяц (июль)"
   ]
  },
  {
   "cell_type": "markdown",
   "id": "3171260f",
   "metadata": {},
   "source": [
    "**14. ⭐️Задание со звёздочкой!⭐️**\n",
    "\n",
    "**А теперь – график по дням недели (weekday). Задать порядок столбиков на графике можно с помощью аргумента order, которому нужно передать список названий в нужном порядке. Например:**\n",
    "\n",
    "sns.countplot(data['column'], order=['One', 'Two', 'Three'])\n",
    "\n",
    "**Вопрос: в какой день недели суммарно поступает меньше всего заказов? Укажите то название, которое написано в самом датафрейме.**"
   ]
  },
  {
   "cell_type": "code",
   "execution_count": 14,
   "id": "049b80a4",
   "metadata": {},
   "outputs": [
    {
     "data": {
      "image/png": "[encoded data removed]",
      "text/plain": [
       "<Figure size 432x288 with 1 Axes>"
      ]
     },
     "metadata": {
      "needs_background": "light"
     },
     "output_type": "display_data"
    }
   ],
   "source": [
    "# первый вариант решения\n",
    "order = ['Monday', 'Tuesday', 'Wednesday', 'Thursday', 'Friday', 'Saturday', 'Sunday']\n",
    "ax = sns.countplot(data=taxi, x='weekday', order=order)\n",
    "ax.tick_params(axis='x', rotation=45)"
   ]
  },
  {
   "cell_type": "code",
   "execution_count": 15,
   "id": "c32ac98c",
   "metadata": {},
   "outputs": [
    {
     "data": {
      "image/png": "[encoded data removed]",
      "text/plain": [
       "<Figure size 432x288 with 1 Axes>"
      ]
     },
     "metadata": {
      "needs_background": "light"
     },
     "output_type": "display_data"
    }
   ],
   "source": [
    "# второй вариант решения\n",
    "taxi.weekday = pd.Categorical(taxi.weekday, ordered=True, categories=order)\n",
    "ax = sns.countplot(data=taxi, x='weekday')\n",
    "ax.tick_params(axis='x', rotation=45)"
   ]
  },
  {
   "cell_type": "markdown",
   "id": "a2f89049",
   "metadata": {},
   "source": [
    "**15. ⭐️Задание со звёздочкой!⭐️**\n",
    "\n",
    "Также мы можем посмотреть на несколько простых метрик, показывающих число уникальных пользователей за определённый период:\n",
    "\n",
    "* DAU (daily active users) – число уникальных пользователей за день\n",
    "* WAU (weekly active users) – число уникальных пользователей за неделю\n",
    "* MAU (monthly active users) – число уникальных пользователей за месяц\n",
    "\n",
    "**Активные пользователи – те, кто воспользовался приложением и сделал хотя бы один заказ за выбранный промежуток времени. Постройте график MAU и выберите верные утверждения.**\n",
    "\n",
    "Могут пригодиться:\n",
    "\n",
    "* groupby – группировка\n",
    "* nunique – число уникальных значений\n",
    "* plot.line – линейная диаграмма"
   ]
  },
  {
   "cell_type": "code",
   "execution_count": 17,
   "id": "d8cfd4ff",
   "metadata": {},
   "outputs": [
    {
     "data": {
      "text/plain": [
       "month\n",
       "1     102\n",
       "2     110\n",
       "3     162\n",
       "4     253\n",
       "5     275\n",
       "6     309\n",
       "7     318\n",
       "8     377\n",
       "9     416\n",
       "10    437\n",
       "11    504\n",
       "12    569\n",
       "Name: user_id, dtype: int64"
      ]
     },
     "execution_count": 17,
     "metadata": {},
     "output_type": "execute_result"
    }
   ],
   "source": [
    "mau = taxi.groupby('month').user_id.nunique()\n",
    "mau"
   ]
  },
  {
   "cell_type": "code",
   "execution_count": 22,
   "id": "b6935cda",
   "metadata": {},
   "outputs": [
    {
     "data": {
      "image/png": "[encoded data removed]",
      "text/plain": [
       "<Figure size 432x288 with 1 Axes>"
      ]
     },
     "metadata": {
      "needs_background": "light"
     },
     "output_type": "display_data"
    }
   ],
   "source": [
    "# первый вариант\n",
    "mau.plot.line()\n",
    "sns.despine()"
   ]
  },
  {
   "cell_type": "code",
   "execution_count": 24,
   "id": "6fb65600",
   "metadata": {},
   "outputs": [
    {
     "data": {
      "image/png": "[encoded data removed]",
      "text/plain": [
       "<Figure size 432x288 with 1 Axes>"
      ]
     },
     "metadata": {
      "needs_background": "light"
     },
     "output_type": "display_data"
    }
   ],
   "source": [
    "# второй вариант\n",
    "sns.lineplot(data=mau, marker='o')\n",
    "sns.despine()"
   ]
  },
  {
   "cell_type": "markdown",
   "id": "5947f852",
   "metadata": {},
   "source": [
    "* Летом наблюдался спад числа уникальных пользователей в месяц\n",
    "* **В течение всего года число уникальных пользователей увеличивалось**\n",
    "* Число уникальных юзеров в течение года как увеличивалось, так и уменьшалось\n",
    "* **MAU за апрель примерно в 2.5 раза больше, чем за январь**"
   ]
  }
 ],
 "metadata": {
  "kernelspec": {
   "display_name": "Python 3 (ipykernel)",
   "language": "python",
   "name": "python3"
  },
  "language_info": {
   "codemirror_mode": {
    "name": "ipython",
    "version": 3
   },
   "file_extension": ".py",
   "mimetype": "text/x-python",
   "name": "python",
   "nbconvert_exporter": "python",
   "pygments_lexer": "ipython3",
   "version": "3.9.13"
  }
 },
 "nbformat": 4,
 "nbformat_minor": 5
}
